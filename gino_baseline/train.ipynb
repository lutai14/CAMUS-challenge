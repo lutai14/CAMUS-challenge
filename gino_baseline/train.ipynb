{
 "cells": [
  {
   "cell_type": "markdown",
   "id": "034d33f1",
   "metadata": {
    "pycharm": {
     "name": "#%% md\n"
    }
   },
   "source": [
    "### Training a basic segmentation algorithm in Pytorch Lightning\n",
    "\n",
    "In this python notebook, I will outline a barebones Pytorch Lightning (PL) implementation of training a network for the CAMUS echocardiography segmentation challenge.\n",
    "\n",
    "Pytorch Lightning is a library that is completely built on Pytorch, but it re-organizes pytorch code into something more concise and readable.\n",
    "\n",
    "Just like in Pytorch, PL starts with defining an architecture as a class-object. In addition, we must also define a training and validation step as a class-function -- such that later we can simply call trainer.fit(). PL has scripted the rest for us, which spares us a lot of boiler-plate coding.\n",
    "\n",
    "So, we define a model as follows, note that we inherit the pl.LightningModule base class intead of torch.nn.Module:"
   ]
  },
  {
   "cell_type": "code",
   "execution_count": 1,
   "id": "05dd9e22",
   "metadata": {
    "pycharm": {
     "name": "#%%\n"
    }
   },
   "outputs": [],
   "source": [
    "import os\n",
    "import torch\n",
    "from torch import optim, nn, utils, Tensor\n",
    "from torchvision.transforms import ToTensor\n",
    "import pytorch_lightning as pl\n",
    "import torchvision.transforms.functional as TF\n",
    "import torch.nn.functional as F\n",
    "import monai\n",
    "from unet import UNet\n",
    "from metrics import *\n",
    "from laddernet import LadderNetv6\n",
    "\n",
    "# define the LightningModule\n",
    "class SegmentationModel(pl.LightningModule):\n",
    "    def __init__(self, out_path_test='./test_results/', pretrained_weights=None, model='unet'):\n",
    "        super().__init__()\n",
    "        self.pretrained_weights = pretrained_weights\n",
    "\n",
    "        if model=='unet':\n",
    "            self.model = UNet(n_channels=1, n_classes=4, scaling=2)\n",
    "            if pretrained_weights:\n",
    "                self.model.load_state_dict(torch.load(pretrained_weights))\n",
    "        else:\n",
    "            self.model = LadderNetv6(layers=4, num_classes=4, inplanes=1, filters=20)\n",
    "            \n",
    "        self.criterion = nn.CrossEntropyLoss()\n",
    "        self.out_path_test = out_path_test\n",
    "        \n",
    "        \n",
    "    def forward(self, x, method='train'):\n",
    "        if method=='train':\n",
    "            return self.model.forward(x)\n",
    "        elif method=='ssl':\n",
    "            return self.model.forward_ssl(x)\n",
    "        else:\n",
    "            print('method not recognized')\n",
    "    \n",
    "\n",
    "    def training_step(self, batch, batch_idx):\n",
    "        # training_step defines the train loop.\n",
    "        # it is independent of forward\n",
    "        if self.current_epoch < 2 and self.pretrained_weights:\n",
    "            # Freeze model encoder weights\n",
    "            for param in self.model.encoder.parameters():\n",
    "                param.requires_grad = False\n",
    "        else:\n",
    "            # Unfreeze model encoder weights\n",
    "            for param in self.model.encoder.parameters():\n",
    "                param.requires_grad = True\n",
    "\n",
    "        x, y = batch\n",
    "        y_hat = self.forward(x) #self.forward(x)\n",
    "        loss = self.criterion(y_hat, y)\n",
    "        # Logging (to TensorBoard  by default)\n",
    "        dice_loss_train =  dice_loss(y_hat, y)\n",
    "\n",
    "        self.log(\"loss\", {'train': loss.item() } )\n",
    "        self.log(\"dice_loss\", {'train': dice_loss_train.item() } )\n",
    "\n",
    "        return loss  \n",
    "    \n",
    "    \n",
    "    def validation_step(self, batch, batch_idx):\n",
    "        x, y = batch\n",
    "        y_hat = self.forward(x)\n",
    "        loss = self.criterion(y_hat, y)\n",
    "        hs_distances = calculate_hausdorff_distance(y_hat.cpu().detach(),\n",
    "                                         y.cpu().detach())\n",
    "        dice_loss_train =  dice_loss(y_hat, y)\n",
    "        self.log(\"val_loss\", loss.item() )\n",
    "        self.log(\"loss\", {'val': loss })\n",
    "        self.log(\"dice_loss\", {'val': dice_loss_train.item() } )\n",
    "        self.log(\"hs_distance region 1\", {'val': hs_distances[0].item() } )\n",
    "        self.log(\"hs_distance region 2\", {'val': hs_distances[1].item() } )\n",
    "        self.log(\"hs_distance region 3\", {'val': hs_distances[2].item() } )\n",
    "        self.log(\"hs_distance region 4\", {'val': hs_distances[3].item() } )\n",
    "        self.log(\"hs_distance average\", {'val': np.mean(hs_distances) } )\n",
    "        return loss    \n",
    "    \n",
    "\n",
    "    def configure_optimizers(self):\n",
    "        optimizer = optim.Adam(self.parameters(), lr=3e-4)\n",
    "        return {\"optimizer\": optimizer,\n",
    "                \"lr_scheduler\": optim.lr_scheduler.ReduceLROnPlateau(optimizer, factor=0.5, patience=3, verbose=True, threshold=0.0001, threshold_mode='rel', cooldown=0, min_lr=0, eps=1e-08),\n",
    "                \"monitor\": \"val_loss\"}\n",
    "    \n",
    "    \n",
    "    def predict_step(self, sample, sample_idx):\n",
    "        x, y = sample  # INCOMPATIBLE WITH batch_size > 1\n",
    "\n",
    "        y_hat = self.forward(x)\n",
    "        \n",
    "        # log results as images\n",
    "        fig, (ax0, ax1, ax2) = plt.subplots(nrows=1, ncols=3, figsize=(16,9));\n",
    "\n",
    "        ax0.set_title('prediction', fontsize=30)\n",
    "        ax1.set_title('ground truth', fontsize=30)\n",
    "        ax2.set_title('image', fontsize=30)\n",
    "\n",
    "        ax0.imshow(y_hat.cpu().argmax(dim=1)[0], vmax=3); ax0.axis('off')\n",
    "        ax1.imshow(y[0].cpu(),  vmax=3); ax1.axis('off')\n",
    "        ax2.imshow(x[0, 0].cpu(), cmap='Greys_r'); ax2.axis('off')\n",
    "        \n",
    "        fig.tight_layout()\n",
    "        \n",
    "        tensorboard = self.logger.experiment\n",
    "        tensorboard.add_figure('inference results', fig, sample_idx)\n",
    "        \n",
    "        \n",
    "    def test_step(self, sample, sample_idx):\n",
    "        x, x_attrs, info = sample # INCOMPATIBLE WITH batch_size > 1\n",
    "        \n",
    "        # pad until divisible by 2^n (because of n up- and downsampling steps):\n",
    "        two_n = 16\n",
    "        row_pad = (-x.shape[-2]) % two_n\n",
    "        col_pad = (-x.shape[-1]) % two_n\n",
    "        x_padded = F.pad(x, (col_pad, 0, row_pad, 0))\n",
    "        \n",
    "        y_hat = self.forward(x_padded)[:, :, row_pad:, col_pad:]\n",
    "\n",
    "        \n",
    "        # log results to Tensorboard:\n",
    "        fig, (ax0, ax1) = plt.subplots(nrows=1, ncols=2, figsize=(11,9));\n",
    "\n",
    "        ax0.set_title('prediction', fontsize=30)\n",
    "        ax1.set_title('image', fontsize=30)\n",
    "        \n",
    "        ax0.imshow(y_hat.cpu().argmax(dim=1)[0], vmax=3); ax0.axis('off')\n",
    "        ax1.imshow(x[0, 0].cpu(), cmap='Greys_r'); ax1.axis('off')\n",
    "        \n",
    "        fig.tight_layout()\n",
    "        \n",
    "        tensorboard = self.logger.experiment\n",
    "        tensorboard.add_figure('test results', fig, sample_idx)\n",
    "        \n",
    "        # write output to mhd+raw files (but first convert to sitk):\n",
    "        mask = TF.resize(y_hat, x_attrs['shape'], InterpolationMode.BICUBIC)\n",
    "        mask = mask.argmax(dim=1, keepdim=True).type(torch.uint8)[0]\n",
    "        \n",
    "        mask_sitk = sitk.GetImageFromArray(mask.cpu().numpy())\n",
    "        mask_sitk.SetSpacing([x.item() for x in x_attrs['spacing']])\n",
    "\n",
    "        filename = \"_\".join(x[0] for x in info[:3]) + '.mhd'\n",
    "        out_path = os.path.join(self.out_path_test, filename)\n",
    "\n",
    "        writer = sitk.ImageFileWriter()\n",
    "        writer.SetFileName(out_path)\n",
    "        writer.Execute(mask_sitk)"
   ]
  },
  {
   "cell_type": "code",
   "execution_count": 2,
   "metadata": {
    "collapsed": false,
    "pycharm": {
     "name": "#%%\n"
    }
   },
   "outputs": [],
   "source": [
    "# init the model\n",
    "#pretrained_weights = './models/vicreg_encoder_big.pth' # Choose either this or None\n",
    "pretrained_weights = None\n",
    "model = SegmentationModel(pretrained_weights=pretrained_weights)"
   ]
  },
  {
   "cell_type": "markdown",
   "id": "af4aa552",
   "metadata": {
    "pycharm": {
     "name": "#%% md\n"
    }
   },
   "source": [
    "As a next step, we need to define a dataset class. This is one is identical to a pytorch dataset object: we simply define how we want to load our data samples, and make them retrievable by defining indices. \n",
    "\n",
    "To organize the data, I recurse through the dataset directories, and put the relevant info in a Pandas dataframe (df). Every row in the df represents one image, and calling their row index will retrieve the image and mask data with the __getitem__ method."
   ]
  },
  {
   "cell_type": "code",
   "execution_count": 3,
   "metadata": {
    "collapsed": false,
    "pycharm": {
     "name": "#%%\n"
    }
   },
   "outputs": [],
   "source": [
    "from torch.utils.data import Dataset\n",
    "import pandas as pd\n",
    "import SimpleITK as sitk\n",
    "from torchvision.transforms.functional import resize, center_crop\n",
    "from torchvision.transforms import InterpolationMode\n",
    "\n",
    "from sklearn.model_selection import train_test_split\n",
    "\n",
    "class CamusDataset(Dataset):\n",
    "    def __init__(self, data_path, image_size=(512, 512), transform=None):\n",
    "        super().__init__()\n",
    "        self.root = data_path\n",
    "        self.transform = transform\n",
    "        self.data_list = []\n",
    "        self.image_size = image_size\n",
    "\n",
    "        for root, dirs, files in os.walk(self.root):\n",
    "            for file in files:\n",
    "                if file.split('_')[-1] == 'gt.mhd':\n",
    "                    sample = file.split('_')[:3] # [patient, view, ED/ES]\n",
    "                    self.data_list.append(sample)\n",
    "        self.df = pd.DataFrame(self.data_list, columns=['patient', 'view', 'ED/ES'])\n",
    "\n",
    "    def __len__(self):\n",
    "        return len(self.df)\n",
    "\n",
    "    def __getitem__(self, idx):\n",
    "        row = list(self.df.loc[idx])\n",
    "        path = os.path.join(self.root, row[0], \"_\".join(row))\n",
    "        image_sitk = sitk.ReadImage(f'{path}.mhd', sitk.sitkFloat32)\n",
    "\n",
    "        # get pixel spacing to correct aspect ratio\n",
    "        spacing = image_sitk.GetSpacing()\n",
    "        aspect_ratio = spacing[1]/spacing[0]\n",
    "\n",
    "        # convert to numpy\n",
    "        image = sitk.GetArrayFromImage(image_sitk) / 255\n",
    "        mask = sitk.GetArrayFromImage(sitk.ReadImage(f'{path}_gt.mhd', sitk.sitkFloat32))\n",
    "\n",
    "        # compute aspect ratio of pixel(mm) and image(pixels)\n",
    "        pixel_aspect = spacing[1] / spacing[0]\n",
    "        image_aspect = image_sitk.GetHeight() / image_sitk.GetWidth()\n",
    "\n",
    "        # preprocess image and mask\n",
    "        image, mask = torch.Tensor(image), torch.Tensor(mask)\n",
    "        size =  (self.image_size[0], int(image.shape[2]*image_aspect*pixel_aspect))\n",
    "\n",
    "        image  = resize(image, size, interpolation=InterpolationMode.BICUBIC)\n",
    "        mask = resize(mask, size, interpolation=InterpolationMode.NEAREST)\n",
    "\n",
    "        image, mask = center_crop(image, self.image_size), center_crop(mask, self.image_size)\n",
    "\n",
    "\n",
    "        if self.transform is not None:\n",
    "            image = image.numpy()\n",
    "            mask = mask.numpy()\n",
    "            transformed = self.transform(image=image, mask=mask)\n",
    "            image = transformed[\"image\"]\n",
    "            mask = transformed[\"mask\"]\n",
    "\n",
    "\n",
    "        image = torch.permute(image, (1,2,0))\n",
    "        mask = mask.squeeze()\n",
    "        '''\n",
    "        # plot image and mask side by side\n",
    "        fig, (ax0, ax1) = plt.subplots(nrows=1, ncols=2, figsize=(11,9));\n",
    "        ax0.set_title('image', fontsize=30)\n",
    "        ax1.set_title('mask', fontsize=30)\n",
    "        ax0.imshow(image.squeeze(), cmap='Greys_r'); ax0.axis('off')\n",
    "        ax1.imshow(mask, vmax=3); ax1.axis('off')\n",
    "        '''\n",
    "\n",
    "        return image, mask.to(torch.long)"
   ]
  },
  {
   "cell_type": "markdown",
   "id": "932ffcc8",
   "metadata": {
    "pycharm": {
     "name": "#%% md\n"
    }
   },
   "source": [
    "Now we instantiate the dataset object, and split the data into a training and validation set.\n",
    "The dataloaders control how the data will be batched."
   ]
  },
  {
   "cell_type": "code",
   "execution_count": 4,
   "id": "8523b8c0",
   "metadata": {
    "pycharm": {
     "name": "#%%\n"
    }
   },
   "outputs": [],
   "source": [
    "import matplotlib.pyplot as plt\n",
    "import numpy as np\n",
    "from torch.utils.data.sampler import SubsetRandomSampler\n",
    "import torchvision.transforms as transforms\n",
    "import albumentations as A\n",
    "from albumentations.pytorch import ToTensorV2\n",
    "from albumentations.augmentations.geometric.transforms import Affine\n",
    "\n",
    "USE_TRANSFORMS = True\n",
    "\n",
    "if USE_TRANSFORMS == True:\n",
    "    train_transform = A.Compose(\n",
    "        [\n",
    "            A.ShiftScaleRotate(shift_limit=0.2, scale_limit=0.2, rotate_limit=30, p=0.5),\n",
    "            A.RandomBrightnessContrast(brightness_limit=0.3, contrast_limit=0.3, p=0.5),\n",
    "            ToTensorV2(),\n",
    "        ]\n",
    "    )\n",
    "else:\n",
    "    train_transform = None\n",
    "# init dataset object\n",
    "dataset = CamusDataset(data_path=r\"../data/training\", image_size=(512, 512), transform=train_transform)\n",
    "\n",
    "# split into train and validation set, by splitting indices:\n",
    "\n",
    "indices = np.arange(len(dataset))\n",
    "train_indices, val_indices = train_test_split(indices, random_state=42)\n",
    "\n",
    "\n",
    "# init samplers: \n",
    "train_sampler = SubsetRandomSampler(train_indices)\n",
    "val_sampler = SubsetRandomSampler(val_indices)\n",
    "\n",
    "# init loaders: (set num_workers to 8 * number of gpus, 0 for debugging)\n",
    "train_loader = utils.data.DataLoader(dataset, sampler=train_sampler, batch_size=5, num_workers=0)\n",
    "val_loader = utils.data.DataLoader(dataset, sampler=val_sampler, batch_size=5, num_workers=0)"
   ]
  },
  {
   "cell_type": "markdown",
   "id": "453861b3",
   "metadata": {
    "pycharm": {
     "name": "#%% md\n"
    }
   },
   "source": [
    "Finally, we define a trainer, which takes care of the rest. We train by simply calling trainer.fit(): \n",
    "\n",
    "Run ```tensorboard --logdir=lightning_logs --samples_per_plugin images=200``` in your (anaconda/bash) terminal to track the loss over time."
   ]
  },
  {
   "cell_type": "code",
   "execution_count": 5,
   "id": "802f6989",
   "metadata": {
    "pycharm": {
     "name": "#%%\n"
    },
    "scrolled": true
   },
   "outputs": [
    {
     "name": "stderr",
     "output_type": "stream",
     "text": [
      "/home/tin/miniconda3/envs/camus-baseline/lib/python3.7/site-packages/pytorch_lightning/trainer/connectors/accelerator_connector.py:448: LightningDeprecationWarning: Setting `Trainer(gpus=1)` is deprecated in v1.7 and will be removed in v2.0. Please use `Trainer(accelerator='gpu', devices=1)` instead.\n",
      "  f\"Setting `Trainer(gpus={gpus!r})` is deprecated in v1.7 and will be removed\"\n",
      "GPU available: True (cuda), used: True\n",
      "TPU available: False, using: 0 TPU cores\n",
      "IPU available: False, using: 0 IPUs\n",
      "HPU available: False, using: 0 HPUs\n",
      "LOCAL_RANK: 0 - CUDA_VISIBLE_DEVICES: [0]\n",
      "\n",
      "  | Name      | Type             | Params\n",
      "-----------------------------------------------\n",
      "0 | model     | UNet             | 7.8 M \n",
      "1 | criterion | CrossEntropyLoss | 0     \n",
      "-----------------------------------------------\n",
      "7.8 M     Trainable params\n",
      "0         Non-trainable params\n",
      "7.8 M     Total params\n",
      "31.050    Total estimated model params size (MB)\n"
     ]
    },
    {
     "data": {
      "application/vnd.jupyter.widget-view+json": {
       "model_id": "21419e312dcb415ba45c89e15d02093e",
       "version_major": 2,
       "version_minor": 0
      },
      "text/plain": [
       "Sanity Checking: 0it [00:00, ?it/s]"
      ]
     },
     "metadata": {},
     "output_type": "display_data"
    },
    {
     "name": "stderr",
     "output_type": "stream",
     "text": [
      "/home/tin/miniconda3/envs/camus-baseline/lib/python3.7/site-packages/pytorch_lightning/trainer/connectors/data_connector.py:241: PossibleUserWarning: The dataloader, val_dataloader 0, does not have many workers which may be a bottleneck. Consider increasing the value of the `num_workers` argument` (try 12 which is the number of cpus on this machine) in the `DataLoader` init to improve performance.\n",
      "  category=PossibleUserWarning,\n",
      "/home/tin/miniconda3/envs/camus-baseline/lib/python3.7/site-packages/numpy/core/fromnumeric.py:3441: RuntimeWarning: Mean of empty slice.\n",
      "  out=out, **kwargs)\n",
      "/home/tin/miniconda3/envs/camus-baseline/lib/python3.7/site-packages/numpy/core/_methods.py:189: RuntimeWarning: invalid value encountered in double_scalars\n",
      "  ret = ret.dtype.type(ret / rcount)\n",
      "/home/tin/miniconda3/envs/camus-baseline/lib/python3.7/site-packages/pytorch_lightning/trainer/connectors/data_connector.py:241: PossibleUserWarning: The dataloader, train_dataloader, does not have many workers which may be a bottleneck. Consider increasing the value of the `num_workers` argument` (try 12 which is the number of cpus on this machine) in the `DataLoader` init to improve performance.\n",
      "  category=PossibleUserWarning,\n"
     ]
    },
    {
     "data": {
      "application/vnd.jupyter.widget-view+json": {
       "model_id": "6132b8df530043d39ec34ca51e309d2d",
       "version_major": 2,
       "version_minor": 0
      },
      "text/plain": [
       "Training: 0it [00:00, ?it/s]"
      ]
     },
     "metadata": {},
     "output_type": "display_data"
    },
    {
     "data": {
      "application/vnd.jupyter.widget-view+json": {
       "model_id": "eae4adab1f664e76b30a4ade719926d4",
       "version_major": 2,
       "version_minor": 0
      },
      "text/plain": [
       "Validation: 0it [00:00, ?it/s]"
      ]
     },
     "metadata": {},
     "output_type": "display_data"
    },
    {
     "data": {
      "application/vnd.jupyter.widget-view+json": {
       "model_id": "a5904a644c65453c8eeef5ae42f6ec0e",
       "version_major": 2,
       "version_minor": 0
      },
      "text/plain": [
       "Validation: 0it [00:00, ?it/s]"
      ]
     },
     "metadata": {},
     "output_type": "display_data"
    },
    {
     "data": {
      "application/vnd.jupyter.widget-view+json": {
       "model_id": "3c7ce5e10c374eaa91d86576fcc4939e",
       "version_major": 2,
       "version_minor": 0
      },
      "text/plain": [
       "Validation: 0it [00:00, ?it/s]"
      ]
     },
     "metadata": {},
     "output_type": "display_data"
    },
    {
     "data": {
      "application/vnd.jupyter.widget-view+json": {
       "model_id": "cebd0599077a4428a2c70c19aeefd301",
       "version_major": 2,
       "version_minor": 0
      },
      "text/plain": [
       "Validation: 0it [00:00, ?it/s]"
      ]
     },
     "metadata": {},
     "output_type": "display_data"
    },
    {
     "data": {
      "application/vnd.jupyter.widget-view+json": {
       "model_id": "298875567d7148cd9ba8ead36b8ded2c",
       "version_major": 2,
       "version_minor": 0
      },
      "text/plain": [
       "Validation: 0it [00:00, ?it/s]"
      ]
     },
     "metadata": {},
     "output_type": "display_data"
    },
    {
     "data": {
      "application/vnd.jupyter.widget-view+json": {
       "model_id": "2f7bbf5ab6b04bd7bd9a4bdfba2848c3",
       "version_major": 2,
       "version_minor": 0
      },
      "text/plain": [
       "Validation: 0it [00:00, ?it/s]"
      ]
     },
     "metadata": {},
     "output_type": "display_data"
    },
    {
     "data": {
      "application/vnd.jupyter.widget-view+json": {
       "model_id": "18f935f9ebf0429db6a078419f2a89ff",
       "version_major": 2,
       "version_minor": 0
      },
      "text/plain": [
       "Validation: 0it [00:00, ?it/s]"
      ]
     },
     "metadata": {},
     "output_type": "display_data"
    },
    {
     "data": {
      "application/vnd.jupyter.widget-view+json": {
       "model_id": "9ca63f94da3c40808b2a83a43c6d5369",
       "version_major": 2,
       "version_minor": 0
      },
      "text/plain": [
       "Validation: 0it [00:00, ?it/s]"
      ]
     },
     "metadata": {},
     "output_type": "display_data"
    },
    {
     "data": {
      "application/vnd.jupyter.widget-view+json": {
       "model_id": "d04d4ffe99db492199309442a025cbea",
       "version_major": 2,
       "version_minor": 0
      },
      "text/plain": [
       "Validation: 0it [00:00, ?it/s]"
      ]
     },
     "metadata": {},
     "output_type": "display_data"
    },
    {
     "data": {
      "application/vnd.jupyter.widget-view+json": {
       "model_id": "c9d7a78365e542999eecfe15f6334a5a",
       "version_major": 2,
       "version_minor": 0
      },
      "text/plain": [
       "Validation: 0it [00:00, ?it/s]"
      ]
     },
     "metadata": {},
     "output_type": "display_data"
    },
    {
     "data": {
      "application/vnd.jupyter.widget-view+json": {
       "model_id": "015247b663e94343a9fe569756ac6dec",
       "version_major": 2,
       "version_minor": 0
      },
      "text/plain": [
       "Validation: 0it [00:00, ?it/s]"
      ]
     },
     "metadata": {},
     "output_type": "display_data"
    },
    {
     "data": {
      "application/vnd.jupyter.widget-view+json": {
       "model_id": "ed85c719a5ca405bba85aee073738a2a",
       "version_major": 2,
       "version_minor": 0
      },
      "text/plain": [
       "Validation: 0it [00:00, ?it/s]"
      ]
     },
     "metadata": {},
     "output_type": "display_data"
    },
    {
     "data": {
      "application/vnd.jupyter.widget-view+json": {
       "model_id": "608d337875604c34b04092e7acc0fbc0",
       "version_major": 2,
       "version_minor": 0
      },
      "text/plain": [
       "Validation: 0it [00:00, ?it/s]"
      ]
     },
     "metadata": {},
     "output_type": "display_data"
    },
    {
     "data": {
      "application/vnd.jupyter.widget-view+json": {
       "model_id": "1f5e46356e954613a1d01b23be4e66d2",
       "version_major": 2,
       "version_minor": 0
      },
      "text/plain": [
       "Validation: 0it [00:00, ?it/s]"
      ]
     },
     "metadata": {},
     "output_type": "display_data"
    },
    {
     "data": {
      "application/vnd.jupyter.widget-view+json": {
       "model_id": "fd8120e31b89473db244e1b303de1f15",
       "version_major": 2,
       "version_minor": 0
      },
      "text/plain": [
       "Validation: 0it [00:00, ?it/s]"
      ]
     },
     "metadata": {},
     "output_type": "display_data"
    },
    {
     "data": {
      "application/vnd.jupyter.widget-view+json": {
       "model_id": "bc78845e41404dda8c0b5bbb28fb5ae6",
       "version_major": 2,
       "version_minor": 0
      },
      "text/plain": [
       "Validation: 0it [00:00, ?it/s]"
      ]
     },
     "metadata": {},
     "output_type": "display_data"
    },
    {
     "data": {
      "application/vnd.jupyter.widget-view+json": {
       "model_id": "1aa77429eaf849bab8a4808445054182",
       "version_major": 2,
       "version_minor": 0
      },
      "text/plain": [
       "Validation: 0it [00:00, ?it/s]"
      ]
     },
     "metadata": {},
     "output_type": "display_data"
    },
    {
     "data": {
      "application/vnd.jupyter.widget-view+json": {
       "model_id": "bf521aa6442a45958cfccc769b7f6fa2",
       "version_major": 2,
       "version_minor": 0
      },
      "text/plain": [
       "Validation: 0it [00:00, ?it/s]"
      ]
     },
     "metadata": {},
     "output_type": "display_data"
    },
    {
     "data": {
      "application/vnd.jupyter.widget-view+json": {
       "model_id": "b728bf619d494c4eb9b8340abbfaae67",
       "version_major": 2,
       "version_minor": 0
      },
      "text/plain": [
       "Validation: 0it [00:00, ?it/s]"
      ]
     },
     "metadata": {},
     "output_type": "display_data"
    },
    {
     "data": {
      "application/vnd.jupyter.widget-view+json": {
       "model_id": "35d8db94fefa40feb863acadf2770c32",
       "version_major": 2,
       "version_minor": 0
      },
      "text/plain": [
       "Validation: 0it [00:00, ?it/s]"
      ]
     },
     "metadata": {},
     "output_type": "display_data"
    },
    {
     "data": {
      "application/vnd.jupyter.widget-view+json": {
       "model_id": "e684dfa30c69456890d67806841cf0fa",
       "version_major": 2,
       "version_minor": 0
      },
      "text/plain": [
       "Validation: 0it [00:00, ?it/s]"
      ]
     },
     "metadata": {},
     "output_type": "display_data"
    },
    {
     "data": {
      "application/vnd.jupyter.widget-view+json": {
       "model_id": "5f8cc6c0182c41a9a3d74d6cc997afbd",
       "version_major": 2,
       "version_minor": 0
      },
      "text/plain": [
       "Validation: 0it [00:00, ?it/s]"
      ]
     },
     "metadata": {},
     "output_type": "display_data"
    },
    {
     "name": "stdout",
     "output_type": "stream",
     "text": [
      "Epoch 00022: reducing learning rate of group 0 to 1.5000e-04.\n"
     ]
    },
    {
     "data": {
      "application/vnd.jupyter.widget-view+json": {
       "model_id": "75c8f78429404e8484bdc7cb2e5b0156",
       "version_major": 2,
       "version_minor": 0
      },
      "text/plain": [
       "Validation: 0it [00:00, ?it/s]"
      ]
     },
     "metadata": {},
     "output_type": "display_data"
    },
    {
     "data": {
      "application/vnd.jupyter.widget-view+json": {
       "model_id": "4c1748dba0ef439b9aaadf9059033651",
       "version_major": 2,
       "version_minor": 0
      },
      "text/plain": [
       "Validation: 0it [00:00, ?it/s]"
      ]
     },
     "metadata": {},
     "output_type": "display_data"
    },
    {
     "data": {
      "application/vnd.jupyter.widget-view+json": {
       "model_id": "0c5c820bdd6343c78d2b48d950904784",
       "version_major": 2,
       "version_minor": 0
      },
      "text/plain": [
       "Validation: 0it [00:00, ?it/s]"
      ]
     },
     "metadata": {},
     "output_type": "display_data"
    },
    {
     "data": {
      "application/vnd.jupyter.widget-view+json": {
       "model_id": "69d93f26cb0447b7bece3cd73a4b4420",
       "version_major": 2,
       "version_minor": 0
      },
      "text/plain": [
       "Validation: 0it [00:00, ?it/s]"
      ]
     },
     "metadata": {},
     "output_type": "display_data"
    },
    {
     "data": {
      "application/vnd.jupyter.widget-view+json": {
       "model_id": "60a0d32c1448463f847d934415d126b7",
       "version_major": 2,
       "version_minor": 0
      },
      "text/plain": [
       "Validation: 0it [00:00, ?it/s]"
      ]
     },
     "metadata": {},
     "output_type": "display_data"
    },
    {
     "name": "stdout",
     "output_type": "stream",
     "text": [
      "Epoch 00027: reducing learning rate of group 0 to 7.5000e-05.\n"
     ]
    },
    {
     "data": {
      "application/vnd.jupyter.widget-view+json": {
       "model_id": "6d214b9dbe934e06bb1e09ebdfa001d2",
       "version_major": 2,
       "version_minor": 0
      },
      "text/plain": [
       "Validation: 0it [00:00, ?it/s]"
      ]
     },
     "metadata": {},
     "output_type": "display_data"
    },
    {
     "data": {
      "application/vnd.jupyter.widget-view+json": {
       "model_id": "15109d83995545ea8fe242272434addc",
       "version_major": 2,
       "version_minor": 0
      },
      "text/plain": [
       "Validation: 0it [00:00, ?it/s]"
      ]
     },
     "metadata": {},
     "output_type": "display_data"
    },
    {
     "data": {
      "application/vnd.jupyter.widget-view+json": {
       "model_id": "04c1eab325a24142a56d8b1a7ea2795a",
       "version_major": 2,
       "version_minor": 0
      },
      "text/plain": [
       "Validation: 0it [00:00, ?it/s]"
      ]
     },
     "metadata": {},
     "output_type": "display_data"
    },
    {
     "data": {
      "application/vnd.jupyter.widget-view+json": {
       "model_id": "a47edff792a24fa8b059d5052f3b6038",
       "version_major": 2,
       "version_minor": 0
      },
      "text/plain": [
       "Validation: 0it [00:00, ?it/s]"
      ]
     },
     "metadata": {},
     "output_type": "display_data"
    },
    {
     "data": {
      "application/vnd.jupyter.widget-view+json": {
       "model_id": "9e0510e380334675b9df98d7ccf12705",
       "version_major": 2,
       "version_minor": 0
      },
      "text/plain": [
       "Validation: 0it [00:00, ?it/s]"
      ]
     },
     "metadata": {},
     "output_type": "display_data"
    },
    {
     "name": "stdout",
     "output_type": "stream",
     "text": [
      "Epoch 00032: reducing learning rate of group 0 to 3.7500e-05.\n"
     ]
    },
    {
     "data": {
      "application/vnd.jupyter.widget-view+json": {
       "model_id": "31f86ba782114704879be2442b29919d",
       "version_major": 2,
       "version_minor": 0
      },
      "text/plain": [
       "Validation: 0it [00:00, ?it/s]"
      ]
     },
     "metadata": {},
     "output_type": "display_data"
    },
    {
     "data": {
      "application/vnd.jupyter.widget-view+json": {
       "model_id": "8944c828a1ba4be688cd83f524d36931",
       "version_major": 2,
       "version_minor": 0
      },
      "text/plain": [
       "Validation: 0it [00:00, ?it/s]"
      ]
     },
     "metadata": {},
     "output_type": "display_data"
    },
    {
     "data": {
      "application/vnd.jupyter.widget-view+json": {
       "model_id": "dcbe435390064d18a4e98068efb2e47b",
       "version_major": 2,
       "version_minor": 0
      },
      "text/plain": [
       "Validation: 0it [00:00, ?it/s]"
      ]
     },
     "metadata": {},
     "output_type": "display_data"
    },
    {
     "data": {
      "application/vnd.jupyter.widget-view+json": {
       "model_id": "15f330acc8b14d74bf49b6cfa195b4d5",
       "version_major": 2,
       "version_minor": 0
      },
      "text/plain": [
       "Validation: 0it [00:00, ?it/s]"
      ]
     },
     "metadata": {},
     "output_type": "display_data"
    },
    {
     "name": "stdout",
     "output_type": "stream",
     "text": [
      "Epoch 00036: reducing learning rate of group 0 to 1.8750e-05.\n"
     ]
    },
    {
     "data": {
      "application/vnd.jupyter.widget-view+json": {
       "model_id": "162abd363d2944c89532ceb3a6900ac0",
       "version_major": 2,
       "version_minor": 0
      },
      "text/plain": [
       "Validation: 0it [00:00, ?it/s]"
      ]
     },
     "metadata": {},
     "output_type": "display_data"
    },
    {
     "data": {
      "application/vnd.jupyter.widget-view+json": {
       "model_id": "ad7b20d8bb2e4cbe9ca05ebdded00c10",
       "version_major": 2,
       "version_minor": 0
      },
      "text/plain": [
       "Validation: 0it [00:00, ?it/s]"
      ]
     },
     "metadata": {},
     "output_type": "display_data"
    },
    {
     "data": {
      "application/vnd.jupyter.widget-view+json": {
       "model_id": "e9ed6104d29e402e9ab3db500a8a102a",
       "version_major": 2,
       "version_minor": 0
      },
      "text/plain": [
       "Validation: 0it [00:00, ?it/s]"
      ]
     },
     "metadata": {},
     "output_type": "display_data"
    },
    {
     "data": {
      "application/vnd.jupyter.widget-view+json": {
       "model_id": "93e5c4b523134d269f3016e22500a3ff",
       "version_major": 2,
       "version_minor": 0
      },
      "text/plain": [
       "Validation: 0it [00:00, ?it/s]"
      ]
     },
     "metadata": {},
     "output_type": "display_data"
    },
    {
     "name": "stdout",
     "output_type": "stream",
     "text": [
      "Epoch 00040: reducing learning rate of group 0 to 9.3750e-06.\n"
     ]
    },
    {
     "data": {
      "application/vnd.jupyter.widget-view+json": {
       "model_id": "29aa41d7cd2f4d9eb43bb7ced32b9867",
       "version_major": 2,
       "version_minor": 0
      },
      "text/plain": [
       "Validation: 0it [00:00, ?it/s]"
      ]
     },
     "metadata": {},
     "output_type": "display_data"
    },
    {
     "data": {
      "application/vnd.jupyter.widget-view+json": {
       "model_id": "175e07c22fd64ba496deefa31ff400e6",
       "version_major": 2,
       "version_minor": 0
      },
      "text/plain": [
       "Validation: 0it [00:00, ?it/s]"
      ]
     },
     "metadata": {},
     "output_type": "display_data"
    },
    {
     "data": {
      "application/vnd.jupyter.widget-view+json": {
       "model_id": "b55e0eeee189451b95aee47f66a7afeb",
       "version_major": 2,
       "version_minor": 0
      },
      "text/plain": [
       "Validation: 0it [00:00, ?it/s]"
      ]
     },
     "metadata": {},
     "output_type": "display_data"
    },
    {
     "data": {
      "application/vnd.jupyter.widget-view+json": {
       "model_id": "199186b40fac4558b92abefbfe01cc3d",
       "version_major": 2,
       "version_minor": 0
      },
      "text/plain": [
       "Validation: 0it [00:00, ?it/s]"
      ]
     },
     "metadata": {},
     "output_type": "display_data"
    },
    {
     "name": "stdout",
     "output_type": "stream",
     "text": [
      "Epoch 00044: reducing learning rate of group 0 to 4.6875e-06.\n"
     ]
    },
    {
     "data": {
      "application/vnd.jupyter.widget-view+json": {
       "model_id": "af639206fb9747cd83502de3a15c97e7",
       "version_major": 2,
       "version_minor": 0
      },
      "text/plain": [
       "Validation: 0it [00:00, ?it/s]"
      ]
     },
     "metadata": {},
     "output_type": "display_data"
    },
    {
     "data": {
      "application/vnd.jupyter.widget-view+json": {
       "model_id": "2470494195354d08993aac9598b3f8d0",
       "version_major": 2,
       "version_minor": 0
      },
      "text/plain": [
       "Validation: 0it [00:00, ?it/s]"
      ]
     },
     "metadata": {},
     "output_type": "display_data"
    },
    {
     "data": {
      "application/vnd.jupyter.widget-view+json": {
       "model_id": "33ff9b75b33141de9c526af8895a95fd",
       "version_major": 2,
       "version_minor": 0
      },
      "text/plain": [
       "Validation: 0it [00:00, ?it/s]"
      ]
     },
     "metadata": {},
     "output_type": "display_data"
    },
    {
     "data": {
      "application/vnd.jupyter.widget-view+json": {
       "model_id": "cb979c7e2b2348a8af6f37c9b449caec",
       "version_major": 2,
       "version_minor": 0
      },
      "text/plain": [
       "Validation: 0it [00:00, ?it/s]"
      ]
     },
     "metadata": {},
     "output_type": "display_data"
    },
    {
     "name": "stdout",
     "output_type": "stream",
     "text": [
      "Epoch 00048: reducing learning rate of group 0 to 2.3437e-06.\n"
     ]
    },
    {
     "data": {
      "application/vnd.jupyter.widget-view+json": {
       "model_id": "026f36b801fd4056a43d06be3bafb224",
       "version_major": 2,
       "version_minor": 0
      },
      "text/plain": [
       "Validation: 0it [00:00, ?it/s]"
      ]
     },
     "metadata": {},
     "output_type": "display_data"
    },
    {
     "data": {
      "application/vnd.jupyter.widget-view+json": {
       "model_id": "ac1ac83791af461db4b351eac37e04e5",
       "version_major": 2,
       "version_minor": 0
      },
      "text/plain": [
       "Validation: 0it [00:00, ?it/s]"
      ]
     },
     "metadata": {},
     "output_type": "display_data"
    },
    {
     "data": {
      "application/vnd.jupyter.widget-view+json": {
       "model_id": "0cad1b82059c4375b8bca45b8d3269c2",
       "version_major": 2,
       "version_minor": 0
      },
      "text/plain": [
       "Validation: 0it [00:00, ?it/s]"
      ]
     },
     "metadata": {},
     "output_type": "display_data"
    },
    {
     "data": {
      "application/vnd.jupyter.widget-view+json": {
       "model_id": "979baee90f1947bfb553c474957716c8",
       "version_major": 2,
       "version_minor": 0
      },
      "text/plain": [
       "Validation: 0it [00:00, ?it/s]"
      ]
     },
     "metadata": {},
     "output_type": "display_data"
    },
    {
     "name": "stdout",
     "output_type": "stream",
     "text": [
      "Epoch 00052: reducing learning rate of group 0 to 1.1719e-06.\n"
     ]
    },
    {
     "data": {
      "application/vnd.jupyter.widget-view+json": {
       "model_id": "74a1ca2a5180400b86dc12780fe35e6c",
       "version_major": 2,
       "version_minor": 0
      },
      "text/plain": [
       "Validation: 0it [00:00, ?it/s]"
      ]
     },
     "metadata": {},
     "output_type": "display_data"
    },
    {
     "data": {
      "application/vnd.jupyter.widget-view+json": {
       "model_id": "5feb80bdb47844c2af1927febf97e54f",
       "version_major": 2,
       "version_minor": 0
      },
      "text/plain": [
       "Validation: 0it [00:00, ?it/s]"
      ]
     },
     "metadata": {},
     "output_type": "display_data"
    },
    {
     "data": {
      "application/vnd.jupyter.widget-view+json": {
       "model_id": "c2d8690a03484916a6fe8511c493c17f",
       "version_major": 2,
       "version_minor": 0
      },
      "text/plain": [
       "Validation: 0it [00:00, ?it/s]"
      ]
     },
     "metadata": {},
     "output_type": "display_data"
    },
    {
     "name": "stderr",
     "output_type": "stream",
     "text": [
      "`Trainer.fit` stopped: `max_epochs=55` reached.\n"
     ]
    }
   ],
   "source": [
    "# train the model: cc 0.26 after 1 epoch\n",
    "trainer = pl.Trainer(max_epochs=55, gpus=1)#, limit_train_batches=10)\n",
    "trainer.fit(model, train_loader, val_loader)\n",
    "# Save the model\n",
    "model_name = 'unet.pth' if pretrained_weights is None else 'ssl_unet_pretrained.pth'\n",
    "trainer.save_checkpoint('./models/'+model_name)"
   ]
  },
  {
   "cell_type": "markdown",
   "id": "e6372b7f",
   "metadata": {
    "pycharm": {
     "name": "#%% md\n"
    }
   },
   "source": [
    "Let's display some (validation) results in Tensorboard:"
   ]
  },
  {
   "cell_type": "code",
   "execution_count": 6,
   "id": "e88a17dd",
   "metadata": {
    "pycharm": {
     "name": "#%%\n"
    }
   },
   "outputs": [
    {
     "name": "stderr",
     "output_type": "stream",
     "text": [
      "/home/tin/miniconda3/envs/camus-baseline/lib/python3.7/site-packages/pytorch_lightning/trainer/trainer.py:1390: UserWarning: `.predict(ckpt_path=None)` was called without a model. The best model of the previous `fit` call will be used. You can pass `.predict(ckpt_path='best')` to use the best model or `.predict(ckpt_path='last')` to use the last model. If you pass a value, this warning will be silenced.\n",
      "  + f\" You can pass `.{fn}(ckpt_path='best')` to use the best model or\"\n",
      "Restoring states from the checkpoint path at /home/tin/Documents/GitHub/CAMUS-challenge/gino_baseline/lightning_logs/version_2/checkpoints/epoch=54-step=14850.ckpt\n",
      "LOCAL_RANK: 0 - CUDA_VISIBLE_DEVICES: [0]\n",
      "Loaded model weights from checkpoint at /home/tin/Documents/GitHub/CAMUS-challenge/gino_baseline/lightning_logs/version_2/checkpoints/epoch=54-step=14850.ckpt\n",
      "/home/tin/miniconda3/envs/camus-baseline/lib/python3.7/site-packages/pytorch_lightning/trainer/connectors/data_connector.py:241: PossibleUserWarning: The dataloader, predict_dataloader 0, does not have many workers which may be a bottleneck. Consider increasing the value of the `num_workers` argument` (try 12 which is the number of cpus on this machine) in the `DataLoader` init to improve performance.\n",
      "  category=PossibleUserWarning,\n"
     ]
    },
    {
     "data": {
      "application/vnd.jupyter.widget-view+json": {
       "model_id": "6628411748ed47d29bfc054e052f8376",
       "version_major": 2,
       "version_minor": 0
      },
      "text/plain": [
       "Predicting: 270it [00:00, ?it/s]"
      ]
     },
     "metadata": {},
     "output_type": "display_data"
    },
    {
     "name": "stderr",
     "output_type": "stream",
     "text": [
      "/home/tin/miniconda3/envs/camus-baseline/lib/python3.7/site-packages/pytorch_lightning/loops/epoch/prediction_epoch_loop.py:135: UserWarning: predict returned None if it was on purpose, ignore this warning...\n",
      "  self._warning_cache.warn(\"predict returned None if it was on purpose, ignore this warning...\")\n"
     ]
    }
   ],
   "source": [
    "# automatically auto-loads the best weights from the previous run\n",
    "val_loader_log = utils.data.DataLoader(dataset, sampler=val_sampler, batch_size=1, num_workers=0)\n",
    "outputs = trainer.predict(dataloaders=val_loader_log)"
   ]
  },
  {
   "cell_type": "markdown",
   "id": "2b45d782",
   "metadata": {
    "pycharm": {
     "name": "#%% md\n"
    }
   },
   "source": [
    "Finally, if we're happy with the results, we should run our network on the test set, and save the resulting masks in a format that's compatible with the CAMUS challenge website (The website allows 4 test submissions).\n",
    "\n",
    "\n",
    "First we need to adjust the dataset class, as the ```__getitem__``` method shouldn't try to load a ground truth mask."
   ]
  },
  {
   "cell_type": "code",
   "execution_count": 7,
   "id": "89393bbb",
   "metadata": {
    "pycharm": {
     "name": "#%%\n"
    }
   },
   "outputs": [],
   "source": [
    "class CamusTestSet(Dataset):\n",
    "    def __init__(self, data_path, image_size=(512, 512)):\n",
    "        super().__init__()\n",
    "        self.root = data_path\n",
    "        \n",
    "        self.data_list = []\n",
    "        self.image_size = image_size\n",
    "        \n",
    "        for root, dirs, files in os.walk(self.root):\n",
    "            for file in files:\n",
    "                suffix = file.split('_')[-1]\n",
    "                if suffix in ['ED.mhd', 'ES.mhd']:\n",
    "                    sample = file.split('.')[0].split('_')[:3] # [patient, view, ED/ES]\n",
    "                    self.data_list.append(sample)\n",
    "        self.df = pd.DataFrame(self.data_list, columns=['patient', 'view', 'ED/ES'])\n",
    "\n",
    "        \n",
    "    def __len__(self):\n",
    "        return len(self.df)\n",
    "    \n",
    "    def __getitem__(self, idx):\n",
    "        row = list(self.df.loc[idx])\n",
    "        path = os.path.join(self.root, row[0], \"_\".join(row))\n",
    "        \n",
    "        image_sitk = sitk.ReadImage(f'{path}.mhd', sitk.sitkFloat32)\n",
    "        image = sitk.GetArrayFromImage(image_sitk) / 255\n",
    "        \n",
    "        # get pixel spacing to correct aspect ratio\n",
    "        spacing = image_sitk.GetSpacing()\n",
    "        pixel_aspect = spacing[1]/spacing[0]\n",
    "        image_aspect = image_sitk.GetHeight() / image_sitk.GetWidth()\n",
    "        \n",
    "        # preprocess image\n",
    "        image = torch.Tensor(image)\n",
    "        size =  (self.image_size[0], int(image.shape[2]*image_aspect*pixel_aspect))\n",
    "        image  = resize(image, size, interpolation=InterpolationMode.BICUBIC)\n",
    "        \n",
    "        image_attrs = dict(\n",
    "            shape = [image_sitk.GetHeight(), image_sitk.GetWidth()],\n",
    "            spacing = spacing\n",
    "        )\n",
    "        return image, image_attrs, row"
   ]
  },
  {
   "cell_type": "markdown",
   "id": "23e99cf2",
   "metadata": {
    "pycharm": {
     "name": "#%% md\n"
    }
   },
   "source": [
    "Now we are ready to test the model. Earlier, in the model Class definition, I defined the ```test_step```, where it writes a predicted mask to an .mhd file format, which is compatible with the Challenge submission website."
   ]
  },
  {
   "cell_type": "code",
   "execution_count": 8,
   "metadata": {
    "collapsed": false,
    "pycharm": {
     "name": "#%%\n"
    }
   },
   "outputs": [
    {
     "name": "stderr",
     "output_type": "stream",
     "text": [
      "Restoring states from the checkpoint path at /home/tin/Documents/GitHub/CAMUS-challenge/gino_baseline/lightning_logs/version_2/checkpoints/epoch=54-step=14850.ckpt\n",
      "LOCAL_RANK: 0 - CUDA_VISIBLE_DEVICES: [0]\n",
      "Loaded model weights from checkpoint at /home/tin/Documents/GitHub/CAMUS-challenge/gino_baseline/lightning_logs/version_2/checkpoints/epoch=54-step=14850.ckpt\n",
      "/home/tin/miniconda3/envs/camus-baseline/lib/python3.7/site-packages/pytorch_lightning/utilities/data.py:154: UserWarning: Total length of `DataLoader` across ranks is zero. Please make sure this was your intention.\n",
      "  f\"Total length of `{dataloader.__class__.__name__}` across ranks is zero.\"\n"
     ]
    }
   ],
   "source": [
    "test_set = CamusTestSet(data_path=r\"C:\\Users\\Tadija\\Desktop\\data\\testing\")\n",
    "test_loader = utils.data.DataLoader(test_set, batch_size=1, num_workers=0)\n",
    "trainer.test(ckpt_path=\"best\", dataloaders=test_loader);"
   ]
  }
 ],
 "metadata": {
  "kernelspec": {
   "display_name": "Python 3.7.13 ('camus-baseline')",
   "language": "python",
   "name": "python3"
  },
  "language_info": {
   "codemirror_mode": {
    "name": "ipython",
    "version": 3
   },
   "file_extension": ".py",
   "mimetype": "text/x-python",
   "name": "python",
   "nbconvert_exporter": "python",
   "pygments_lexer": "ipython3",
   "version": "3.7.13"
  },
  "vscode": {
   "interpreter": {
    "hash": "fde25bff22cac1da1ec8bb493443a14925b5f3cd746b39f4f5263924a6de861e"
   }
  }
 },
 "nbformat": 4,
 "nbformat_minor": 5
}
