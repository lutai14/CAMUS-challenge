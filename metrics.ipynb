{
 "cells": [
  {
   "cell_type": "code",
   "execution_count": 1,
   "outputs": [],
   "source": [
    "import numpy as np\n",
    "import matplotlib.pyplot as plt\n",
    "import torch\n",
    "import scipy.signal as signal\n",
    "from skimage.metrics import hausdorff_distance\n",
    "import SimpleITK as sitk"
   ],
   "metadata": {
    "collapsed": false,
    "pycharm": {
     "name": "#%%\n"
    }
   }
  },
  {
   "cell_type": "code",
   "execution_count": 2,
   "outputs": [],
   "source": [
    "def generate_circle(size):\n",
    "    x = np.linspace(-1, 1, size)\n",
    "    y = np.linspace(-1, 1, size)\n",
    "    X, Y = np.meshgrid(x, y)\n",
    "    Z = X**2 + Y**2\n",
    "    Z = Z < 0.5\n",
    "    Z = Z.astype(np.float32)\n",
    "    return Z"
   ],
   "metadata": {
    "collapsed": false,
    "pycharm": {
     "name": "#%%\n"
    }
   }
  },
  {
   "cell_type": "code",
   "execution_count": 3,
   "outputs": [],
   "source": [
    "def generate_square(size):\n",
    "    x = np.linspace(-1, 1, size)\n",
    "    y = np.linspace(-1, 1, size)\n",
    "    X, Y = np.meshgrid(x, y)\n",
    "    Z = np.ones((size, size))\n",
    "    Z[(X < -0.5) | (X > 0.5)] = 0\n",
    "    Z[(Y < -0.5) | (Y > 0.5)] = 0\n",
    "    Z = Z.astype(np.float32)\n",
    "    return Z"
   ],
   "metadata": {
    "collapsed": false,
    "pycharm": {
     "name": "#%%\n"
    }
   }
  },
  {
   "cell_type": "code",
   "execution_count": 4,
   "outputs": [],
   "source": [
    "def edge_filter_mask(image):\n",
    "    # Define the Sobel filter\n",
    "    sobel_x = np.array([[-1, 0, 1], [-2, 0, 2], [-1, 0, 1]])\n",
    "    sobel_y = np.array([[-1, -2, -1], [0, 0, 0], [1, 2, 1]])\n",
    "    # Apply the filter on the image\n",
    "    image_x = signal.convolve2d(image, sobel_x, mode='same', boundary='symm')\n",
    "    image_y = signal.convolve2d(image, sobel_y, mode='same', boundary='symm')\n",
    "\n",
    "    # Compute the magnitude\n",
    "    magnitude = np.sqrt(np.square(image_x) + np.square(image_y))\n",
    "\n",
    "    # Compute the outline\n",
    "    outline = np.zeros_like(magnitude)\n",
    "    outline[magnitude > 0] = 1\n",
    "\n",
    "    return outline"
   ],
   "metadata": {
    "collapsed": false,
    "pycharm": {
     "name": "#%%\n"
    }
   }
  },
  {
   "cell_type": "code",
   "execution_count": 5,
   "outputs": [],
   "source": [
    "def convert_to_bool(image):\n",
    "    image = image.astype(bool)\n",
    "    return image"
   ],
   "metadata": {
    "collapsed": false,
    "pycharm": {
     "name": "#%%\n"
    }
   }
  },
  {
   "cell_type": "code",
   "execution_count": 6,
   "outputs": [],
   "source": [
    "def dice_score(pred, target):\n",
    "    smooth = 1.\n",
    "    iflat = pred.view(-1)\n",
    "    tflat = target.view(-1)\n",
    "    intersection = (iflat * tflat).sum()\n",
    "    return (2. * intersection + smooth) / (iflat.sum() + tflat.sum() + smooth)"
   ],
   "metadata": {
    "collapsed": false,
    "pycharm": {
     "name": "#%%\n"
    }
   }
  },
  {
   "cell_type": "code",
   "execution_count": 7,
   "outputs": [],
   "source": [
    "def ejection_fraction(ES, ED):\n",
    "    projection_area_ES = np.sum(ES)\n",
    "    projection_area_ED = np.sum(ED)\n",
    "    return 1-(projection_area_ES/projection_area_ED)**(3/2)"
   ],
   "metadata": {
    "collapsed": false,
    "pycharm": {
     "name": "#%%\n"
    }
   }
  },
  {
   "cell_type": "code",
   "execution_count": 8,
   "outputs": [],
   "source": [
    "# TESTING STUFF"
   ],
   "metadata": {
    "collapsed": false,
    "pycharm": {
     "name": "#%%\n"
    }
   }
  },
  {
   "cell_type": "code",
   "execution_count": 9,
   "outputs": [
    {
     "name": "stdout",
     "output_type": "stream",
     "text": [
      "torch.Size([64, 64])\n",
      "torch.Size([64, 64])\n"
     ]
    }
   ],
   "source": [
    "circle = torch.from_numpy(generate_circle(64))\n",
    "square = torch.from_numpy(generate_square(64))\n",
    "\n",
    "outline_circle = convert_to_bool(edge_filter_mask(circle))\n",
    "outline_square = convert_to_bool(edge_filter_mask(square))\n",
    "\n",
    "#outline_circle = torch.from_numpy(outline_circle)\n",
    "#outline_square = torch.from_numpy(outline_square)"
   ],
   "metadata": {
    "collapsed": false,
    "pycharm": {
     "name": "#%%\n"
    }
   }
  },
  {
   "cell_type": "code",
   "execution_count": 10,
   "outputs": [],
   "source": [
    "dice = dice_score(circle, square)\n",
    "hausdorff = hausdorff_distance(outline_circle, outline_square)"
   ],
   "metadata": {
    "collapsed": false,
    "pycharm": {
     "name": "#%%\n"
    }
   }
  },
  {
   "cell_type": "markdown",
   "source": [
    "# Test metrics on masks"
   ],
   "metadata": {
    "collapsed": false,
    "pycharm": {
     "name": "#%% md\n"
    }
   }
  },
  {
   "cell_type": "code",
   "execution_count": 11,
   "outputs": [],
   "source": [
    "def mhd_to_array(path):\n",
    "    \"\"\"\n",
    "    Read an *.mhd file stored in path and return it as a numpy array.\n",
    "    \"\"\"\n",
    "    return sitk.GetArrayFromImage(sitk.ReadImage(path, sitk.sitkFloat32))"
   ],
   "metadata": {
    "collapsed": false,
    "pycharm": {
     "name": "#%%\n"
    }
   }
  },
  {
   "cell_type": "code",
   "execution_count": 12,
   "outputs": [],
   "source": [
    "def select_cavity(mask):\n",
    "    mask[mask != 1] = 0\n",
    "    return mask"
   ],
   "metadata": {
    "collapsed": false,
    "pycharm": {
     "name": "#%%\n"
    }
   }
  },
  {
   "cell_type": "code",
   "execution_count": 13,
   "outputs": [],
   "source": [
    "import os\n",
    "\n",
    "root = \"data/training\"\n",
    "patient_number = 5\n",
    "pt1ed = f'patient000{patient_number}/patient000{patient_number}_2CH_ED'\n",
    "pt1es = f'patient000{patient_number}/patient000{patient_number}_2CH_ES'\n",
    "\n",
    "image_ed = mhd_to_array(os.path.join(root, pt1ed + '.mhd'))\n",
    "mask_ed = mhd_to_array(os.path.join(root, pt1ed + '_gt.mhd'))\n",
    "\n",
    "image_es = mhd_to_array(os.path.join(root, pt1es + '.mhd'))\n",
    "mask_es = mhd_to_array(os.path.join(root, pt1es + '_gt.mhd'))"
   ],
   "metadata": {
    "collapsed": false,
    "pycharm": {
     "name": "#%%\n"
    }
   }
  },
  {
   "cell_type": "code",
   "execution_count": 14,
   "outputs": [
    {
     "name": "stdout",
     "output_type": "stream",
     "text": [
      "(973, 591)\n",
      "(973, 591)\n"
     ]
    }
   ],
   "source": [
    "cavity_ed = select_cavity(mask_ed[0])\n",
    "cavity_es = select_cavity(mask_es[0])\n",
    "\n",
    "outline_ed = convert_to_bool(edge_filter_mask(cavity_ed))\n",
    "outline_es = convert_to_bool(edge_filter_mask(cavity_es))\n",
    "\n",
    "dice_metric = dice_score(torch.from_numpy(cavity_ed), torch.from_numpy(cavity_es))\n",
    "hausdorff_metric = hausdorff_distance(outline_ed, outline_es)\n",
    "EF = ejection_fraction(cavity_es, cavity_ed)"
   ],
   "metadata": {
    "collapsed": false,
    "pycharm": {
     "name": "#%%\n"
    }
   }
  },
  {
   "cell_type": "code",
   "execution_count": 15,
   "outputs": [
    {
     "data": {
      "text/plain": "0.5207645195582573"
     },
     "execution_count": 15,
     "metadata": {},
     "output_type": "execute_result"
    }
   ],
   "source": [
    "EF"
   ],
   "metadata": {
    "collapsed": false,
    "pycharm": {
     "name": "#%%\n"
    }
   }
  },
  {
   "cell_type": "code",
   "execution_count": 16,
   "outputs": [
    {
     "data": {
      "text/plain": "<Figure size 640x480 with 1 Axes>",
      "image/png": "[encoded data removed]"
     },
     "metadata": {},
     "output_type": "display_data"
    },
    {
     "data": {
      "text/plain": "<Figure size 640x480 with 1 Axes>",
      "image/png": "[encoded data removed]"
     },
     "metadata": {},
     "output_type": "display_data"
    }
   ],
   "source": [
    "plt.imshow(cavity_ed)\n",
    "plt.show()\n",
    "plt.imshow(cavity_es)\n",
    "plt.show()"
   ],
   "metadata": {
    "collapsed": false,
    "pycharm": {
     "name": "#%%\n"
    }
   }
  },
  {
   "cell_type": "markdown",
   "source": [
    "# Calculating correlation coefficient for the empirical model"
   ],
   "metadata": {
    "collapsed": false,
    "pycharm": {
     "name": "#%% md\n"
    }
   }
  },
  {
   "cell_type": "code",
   "execution_count": 17,
   "outputs": [],
   "source": [
    "rootdir = root\n",
    "LVeF_array = []\n",
    "\n",
    "for subdir, dirs, files in os.walk(rootdir):\n",
    "    for file in files:\n",
    "        if file == 'Info_2CH.cfg':\n",
    "            with open(os.path.join(subdir, file), 'r') as f:\n",
    "                for line in f:\n",
    "                    if 'LVef:' in str(line):\n",
    "                        lvef = float(line.split(':')[1])\n",
    "                        LVeF_array.append(lvef)\n",
    "\n",
    "LVeF_array_empirical = []\n",
    "for subdir, dirs, files in os.walk(rootdir):\n",
    "    both_found = 0\n",
    "    for file in files:\n",
    "        if file.endswith('2CH_ED_gt.mhd'):\n",
    "            cavity_ed = select_cavity(mhd_to_array(os.path.join(subdir, file))[0])\n",
    "            both_found += 1\n",
    "        if file.endswith('2CH_ES_gt.mhd'):\n",
    "            cavity_es = select_cavity(mhd_to_array(os.path.join(subdir, file))[0])\n",
    "            both_found += 1\n",
    "        if both_found == 2:\n",
    "            EF = ejection_fraction(cavity_es, cavity_ed)\n",
    "            LVeF_array_empirical.append(EF)\n",
    "            break"
   ],
   "metadata": {
    "collapsed": false,
    "pycharm": {
     "name": "#%%\n"
    }
   }
  },
  {
   "cell_type": "code",
   "execution_count": 18,
   "outputs": [
    {
     "name": "stdout",
     "output_type": "stream",
     "text": [
      "Pearsons correlation: 0.928\n"
     ]
    }
   ],
   "source": [
    "# Caclculate correlation coefficient of the two arrays\n",
    "from scipy.stats import pearsonr\n",
    "corr, _ = pearsonr(LVeF_array, LVeF_array_empirical)\n",
    "print('Pearsons correlation: %.3f' % corr)"
   ],
   "metadata": {
    "collapsed": false,
    "pycharm": {
     "name": "#%%\n"
    }
   }
  },
  {
   "cell_type": "code",
   "execution_count": 19,
   "outputs": [
    {
     "data": {
      "text/plain": "<Figure size 640x480 with 1 Axes>",
      "image/png": "[encoded data removed]"
     },
     "metadata": {},
     "output_type": "display_data"
    }
   ],
   "source": [
    "# Scatter plot of the two arrays\n",
    "plt.scatter(LVeF_array, LVeF_array_empirical)\n",
    "plt.xlabel('LVeF from Info_2CH.cfg')\n",
    "plt.ylabel('LVeF from empirical model')\n",
    "plt.show()"
   ],
   "metadata": {
    "collapsed": false,
    "pycharm": {
     "name": "#%%\n"
    }
   }
  }
 ],
 "metadata": {
  "kernelspec": {
   "display_name": "Python 3",
   "language": "python",
   "name": "python3"
  },
  "language_info": {
   "codemirror_mode": {
    "name": "ipython",
    "version": 2
   },
   "file_extension": ".py",
   "mimetype": "text/x-python",
   "name": "python",
   "nbconvert_exporter": "python",
   "pygments_lexer": "ipython2",
   "version": "2.7.6"
  }
 },
 "nbformat": 4,
 "nbformat_minor": 0
}