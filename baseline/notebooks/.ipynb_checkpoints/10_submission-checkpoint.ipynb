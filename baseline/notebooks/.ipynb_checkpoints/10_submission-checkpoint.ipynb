{
 "cells": [
  {
   "cell_type": "code",
   "execution_count": 1,
   "metadata": {},
   "outputs": [],
   "source": [
    "# Standard\n",
    "import os\n",
    "import sys\n",
    "import datetime\n",
    "import numpy as np\n",
    "import matplotlib.pyplot as plt\n",
    "\n",
    "# Utils\n",
    "import h5py\n",
    "import SimpleITK as sitk\n",
    "import cv2\n",
    "from medpy.io.save import save\n",
    "\n",
    "# Deep Learning\n",
    "from sklearn.model_selection import train_test_split\n",
    "from tensorflow.keras import backend as K\n",
    "from tensorflow.keras.optimizers import Adam\n",
    "from tensorflow.keras.callbacks import EarlyStopping, ReduceLROnPlateau\n",
    "from tensorflow.keras.models import load_model\n",
    "import tensorflow as tf\n",
    "\n",
    "# User defined\n",
    "sys.path.insert(0, \"../\")\n",
    "from architectures.laddernet import LadderNet\n",
    "from architectures.unet import UNet\n",
    "from metrics.multiclass_dice import multiclass_dice, dice_lv, dice_la, dice_myo"
   ]
  },
  {
   "cell_type": "code",
   "execution_count": 2,
   "metadata": {},
   "outputs": [],
   "source": [
    "f = h5py.File(\"../../data/image_dataset_normalized.hdf5\", \"r\")\n",
    "frames2ch = f[\"train 2ch frames\"][:,:,:,:]\n",
    "frames4ch = f[\"train 4ch frames\"][:,:,:,:]"
   ]
  },
  {
   "cell_type": "code",
   "execution_count": 3,
   "metadata": {},
   "outputs": [],
   "source": [
    "model2ch = load_model(\"../models/laddernet088_2ch.h5\", custom_objects={\"multiclass_dice\": multiclass_dice,\n",
    "                                                                       \"dice_lv\": dice_lv,\n",
    "                                                                       \"dice_la\": dice_la,\n",
    "                                                                       \"dice_myo\": dice_myo})\n",
    "\n",
    "model4ch = load_model(\"../models/laddernet090_4ch.h5\", custom_objects={\"multiclass_dice\": multiclass_dice,\n",
    "                                                                       \"dice_lv\": dice_lv,\n",
    "                                                                       \"dice_la\": dice_la,\n",
    "                                                                       \"dice_myo\": dice_myo})"
   ]
  },
  {
   "cell_type": "code",
   "execution_count": 4,
   "metadata": {},
   "outputs": [],
   "source": [
    "seg2ch = model2ch.predict(frames2ch)\n",
    "seg2ch = np.argmax(seg2ch, axis=3)\n",
    "seg4ch = model4ch.predict(frames4ch)\n",
    "seg4ch = np.argmax(seg4ch, axis=3)"
   ]
  },
  {
   "cell_type": "code",
   "execution_count": 5,
   "metadata": {},
   "outputs": [],
   "source": [
    "def mhd_to_array(path):\n",
    "    return sitk.GetArrayFromImage(sitk.ReadImage(path, sitk.sitkFloat32))"
   ]
  },
  {
   "cell_type": "code",
   "execution_count": 6,
   "metadata": {},
   "outputs": [],
   "source": [
    "train_path = \"../../data/training/\"\n",
    "train_2ch_frames_list = sorted(os.listdir(train_path + \"2ch/frames/\"))\n",
    "train_4ch_frames_list = sorted(os.listdir(train_path + \"4ch/frames/\"))"
   ]
  },
  {
   "cell_type": "code",
   "execution_count": 10,
   "metadata": {},
   "outputs": [],
   "source": [
    "echo_sizes2ch = []\n",
    "\n",
    "for i in train_2ch_frames_list:\n",
    "    if \"mhd\" in i:\n",
    "        x = mhd_to_array(os.path.join(train_path, \"2ch/frames\", i))\n",
    "        sizes = (x.shape[2], x.shape[1])\n",
    "        echo_sizes2ch.append(sizes)\n",
    "        \n",
    "echo_sizes4ch = []\n",
    "\n",
    "for i in train_4ch_frames_list:\n",
    "    if \"mhd\" in i:\n",
    "        x = mhd_to_array(os.path.join(train_path, \"4ch/frames\", i))\n",
    "        sizes = (x.shape[2], x.shape[1])\n",
    "        echo_sizes4ch.append(sizes)"
   ]
  },
  {
   "cell_type": "code",
   "execution_count": null,
   "metadata": {},
   "outputs": [],
   "source": [
    "j = 1\n",
    "for i in range(seg2ch.shape[0]):\n",
    "    pred = seg2ch[i]\n",
    "    pred = cv2.resize(pred, echo_sizes2ch[i], interpolation=cv2.INTER_NEAREST)\n",
    "    if (i+1)%2==1:\n",
    "        save(pred, \"../predictions/\" + \"patient\" + \"{:04d}\".format(j) + \"_2CH_ED.mhd\")\n",
    "    else:\n",
    "        save(pred, \"../predictions/\" + \"patient\" + \"{:04d}\".format(j) + \"_2CH_ES.mhd\")\n",
    "        j = j + 1\n",
    "        \n",
    "j = 1\n",
    "for i in range(seg4ch.shape[0]):\n",
    "    pred = seg4ch[i]\n",
    "    pred = cv2.resize(pred, echo_sizes4ch[i], interpolation=cv2.INTER_NEAREST)\n",
    "    if (i+1)%2==1:\n",
    "        save(pred, \"../predictions/\" + \"patient\" + \"{:04d}\".format(j) + \"_2CH_ED.mhd\")\n",
    "    else:\n",
    "        save(pred, \"../predictions/\" + \"patient\" + \"{:04d}\".format(j) + \"_2CH_ES.mhd\")\n",
    "        j = j + 1"
   ]
  },
  {
   "cell_type": "code",
   "execution_count": 9,
   "metadata": {},
   "outputs": [
    {
     "data": {
      "text/plain": [
       "(549, 778)"
      ]
     },
     "execution_count": 9,
     "metadata": {},
     "output_type": "execute_result"
    }
   ],
   "source": [
    "echo_sizes[0]"
   ]
  },
  {
   "cell_type": "code",
   "execution_count": 10,
   "metadata": {},
   "outputs": [
    {
     "data": {
      "text/plain": [
       "(1, 1232, 869)"
      ]
     },
     "execution_count": 10,
     "metadata": {},
     "output_type": "execute_result"
    }
   ],
   "source": [
    "x.shape"
   ]
  },
  {
   "cell_type": "code",
   "execution_count": null,
   "metadata": {},
   "outputs": [],
   "source": []
  }
 ],
 "metadata": {
  "kernelspec": {
   "display_name": "Environment (conda_tensorflow2_p36)",
   "language": "python",
   "name": "conda_tensorflow2_p36"
  },
  "language_info": {
   "codemirror_mode": {
    "name": "ipython",
    "version": 3
   },
   "file_extension": ".py",
   "mimetype": "text/x-python",
   "name": "python",
   "nbconvert_exporter": "python",
   "pygments_lexer": "ipython3",
   "version": "3.6.5"
  }
 },
 "nbformat": 4,
 "nbformat_minor": 2
}
