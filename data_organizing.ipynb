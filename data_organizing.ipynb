{
 "cells": [
  {
   "cell_type": "code",
   "execution_count": null,
   "metadata": {},
   "outputs": [],
   "source": [
    "import os \n",
    "import shutil"
   ]
  },
  {
   "cell_type": "code",
   "execution_count": null,
   "metadata": {},
   "outputs": [],
   "source": [
    "os.makedirs('data/original_data', exist_ok=True)\n",
    "shutil.move('data/training', 'data/original_data')\n",
    "\n",
    "os.makedirs('data/training/2ch/frames', exist_ok=True)\n",
    "os.makedirs('data/training/4ch/frames', exist_ok=True)\n",
    "os.makedirs('data/training/2ch/masks', exist_ok=True)\n",
    "os.makedirs('data/training/4ch/masks', exist_ok=True)\n",
    "os.makedirs('data/training/2ch/sequences', exist_ok=True)\n",
    "os.makedirs('data/training/4ch/sequences', exist_ok=True)\n",
    "os.makedirs('data/training/2ch/info', exist_ok=True)\n",
    "os.makedirs('data/training/4ch/info', exist_ok=True)"
   ]
  },
  {
   "cell_type": "code",
   "execution_count": null,
   "metadata": {},
   "outputs": [],
   "source": [
    "for _dir, _, files in os.walk('data/original_data/training'):\n",
    "    for file in files:\n",
    "        if file.endswith('.mhd') or file.endswith('.raw'):\n",
    "            print(os.path.join(_dir, file))\n",
    "            if '2CH' in file:\n",
    "                if 'gt' in file:\n",
    "                    shutil.move(os.path.join(_dir, file), 'data/training/2ch/masks')\n",
    "                elif 'sequence' in file:\n",
    "                    shutil.move(os.path.join(_dir, file), 'data/training/2ch/sequences')\n",
    "                else:\n",
    "                    shutil.move(os.path.join(_dir, file), 'data/training/2ch/frames')\n",
    "            else:\n",
    "                if 'gt' in file:\n",
    "                    shutil.move(os.path.join(_dir, file), 'data/training/4ch/masks')\n",
    "                elif 'sequence' in file:\n",
    "                    shutil.move(os.path.join(_dir, file), 'data/training/4ch/sequences')\n",
    "                else:\n",
    "                    shutil.move(os.path.join(_dir, file), 'data/training/4ch/frames')\n",
    "        elif file.endswith('.cfg'):\n",
    "            patient = os.path.basename(os.path.dirname(os.path.join(_dir, file)))\n",
    "            if '2CH' in file:\n",
    "                shutil.move(os.path.join(_dir, file), f'data/training/2ch/info/{patient}_info.cfg')\n",
    "            else:\n",
    "                shutil.move(os.path.join(_dir, file), f'data/training/4ch/info/{patient}_info.cfg')"
   ]
  },
  {
   "cell_type": "code",
   "execution_count": null,
   "metadata": {},
   "outputs": [],
   "source": []
  }
 ],
 "metadata": {
  "kernelspec": {
   "display_name": "Python 3.7.13 ('scraper')",
   "language": "python",
   "name": "python3"
  },
  "language_info": {
   "codemirror_mode": {
    "name": "ipython",
    "version": 3
   },
   "file_extension": ".py",
   "mimetype": "text/x-python",
   "name": "python",
   "nbconvert_exporter": "python",
   "pygments_lexer": "ipython3",
   "version": "3.7.13"
  },
  "orig_nbformat": 4,
  "vscode": {
   "interpreter": {
    "hash": "69229151b824693deaea43198698d935d6efaff290c64e7a105a9ab113cb4352"
   }
  }
 },
 "nbformat": 4,
 "nbformat_minor": 2
}