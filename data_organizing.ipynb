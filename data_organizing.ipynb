{
 "cells": [
  {
   "cell_type": "code",
   "execution_count": 14,
   "metadata": {},
   "outputs": [],
   "source": [
    "import os \n",
    "import shutil"
   ]
  },
  {
   "cell_type": "code",
   "execution_count": 13,
   "metadata": {},
   "outputs": [],
   "source": [
    "os.makedirs('data/training/2ch/frames', exist_ok=True)\n",
    "os.makedirs('data/training/2ch/masks', exist_ok=True)\n",
    "os.makedirs('data/training/4ch/frames', exist_ok=True)\n",
    "os.makedirs('data/training/4ch/masks', exist_ok=True)"
   ]
  },
  {
   "cell_type": "code",
   "execution_count": 14,
   "metadata": {},
   "outputs": [],
   "source": [
    "for _dir, _, files in os.walk('./training'):\n",
    "    for file in files:\n",
    "        if file.endswith('.mhd') or file.endswith('.raw'):\n",
    "            if '2CH' in file:\n",
    "                if 'gt' not in file:\n",
    "                    shutil.move(os.path.join(_dir, file), 'data/training/2ch/frames')\n",
    "                else:\n",
    "                    shutil.move(os.path.join(_dir, file), 'data/training/2ch/masks')\n",
    "            else:\n",
    "                if 'gt' not in file:\n",
    "                    shutil.move(os.path.join(_dir, file), 'data/training/4ch/frames')\n",
    "                else:\n",
    "                    shutil.move(os.path.join(_dir, file), 'data/training/4ch/masks')"
   ]
  },
  {
   "cell_type": "code",
   "execution_count": 16,
   "metadata": {},
   "outputs": [],
   "source": [
    "os.makedirs('data/training/sequences', exist_ok=True)\n",
    "\n",
    "for _dir, _, files in os.walk('./data/training'):\n",
    "    try:\n",
    "        for file in files:\n",
    "            if 'sequence' in file:\n",
    "                shutil.move(os.path.join(_dir, file), 'data/training/sequences/')\n",
    "    except: \n",
    "        pass"
   ]
  },
  {
   "cell_type": "code",
   "execution_count": null,
   "metadata": {},
   "outputs": [],
   "source": []
  }
 ],
 "metadata": {
  "kernelspec": {
   "display_name": "Python 3.10.5 64-bit",
   "language": "python",
   "name": "python3"
  },
  "language_info": {
   "codemirror_mode": {
    "name": "ipython",
    "version": 3
   },
   "file_extension": ".py",
   "mimetype": "text/x-python",
   "name": "python",
   "nbconvert_exporter": "python",
   "pygments_lexer": "ipython3",
   "version": "3.10.5"
  },
  "orig_nbformat": 4,
  "vscode": {
   "interpreter": {
    "hash": "aee8b7b246df8f9039afb4144a1f6fd8d2ca17a180786b69acc140d282b71a49"
   }
  }
 },
 "nbformat": 4,
 "nbformat_minor": 2
}
